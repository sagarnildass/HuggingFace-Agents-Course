{
 "cells": [
  {
   "cell_type": "markdown",
   "id": "16081038-1d6f-4695-8c77-2e570a14bfff",
   "metadata": {},
   "source": [
    "## Serverless API\n",
    "In the Hugging Face ecosystem, there is a convenient feature called Serverless API that allows you to easily run inference on many models. There's no installation or deployment required.\n",
    "\n",
    "To run this notebook, you need a Hugging Face token that you can get from https://hf.co/settings/tokens. If you are running this notebook on Google Colab, you can set it up in the \"settings\" tab under \"secrets\". Make sure to call it \"HF_TOKEN\".\n",
    "\n",
    "You also need to request access to the Meta Llama models, if you haven't done it before. Approval usually takes up to an hour."
   ]
  },
  {
   "cell_type": "code",
   "execution_count": null,
   "id": "f1b27a7e-1812-4be6-85dd-0e18bc0b8278",
   "metadata": {},
   "outputs": [],
   "source": [
    "import os\n",
    "from huggingface_hub import InferenceClient\n",
    "\n",
    "# os.environ[\"HF_TOKEN\"]=\"hf_xxxxxxxxxxx\"\n",
    "\n",
    "client = InferenceClient(\"meta-llama/Llama-3.2-3B-Instruct\")"
   ]
  },
  {
   "cell_type": "code",
   "execution_count": 2,
   "id": "b84322ba-d1d8-4b5d-b59e-747c4ade032f",
   "metadata": {},
   "outputs": [
    {
     "name": "stdout",
     "output_type": "stream",
     "text": [
      " a great way to get started with the basics of photography. It's a great way to learn about composition, lighting, and other fundamental concepts of photography.\n",
      "\n",
      "Here are some tips to get you started with photography:\n",
      "\n",
      "1.  **Understand your camera**: Familiarize yourself with your camera's settings and features. Read the manual or online resources to learn about the different modes, such as manual, aperture priority, and shutter priority.\n",
      "2.  **Practice, practice, practice**: The more you\n"
     ]
    }
   ],
   "source": [
    "# As seen in the LLM section, if we just do decoding, **the model will only stop when it predicts an EOS token**, \n",
    "# and this does not happen here because this is a conversational (chat) model and we didn't apply the chat template it expects.\n",
    "output = client.text_generation(\n",
    "    \"The capital of france is\",\n",
    "    max_new_tokens=100,\n",
    ")\n",
    "\n",
    "print(output)"
   ]
  },
  {
   "cell_type": "code",
   "execution_count": 4,
   "id": "a18012fb-2dbb-4100-bb4a-14c8ce869cc4",
   "metadata": {},
   "outputs": [
    {
     "name": "stdout",
     "output_type": "stream",
     "text": [
      "...Paris!\n"
     ]
    }
   ],
   "source": [
    "# If we now add the special tokens related to Llama3.2 model, the behaviour changes and is now the expected oen.\n",
    "prompt=\"\"\"<|begin_of_text|><|start_header_id|>user<|end_header_id|>\n",
    "\n",
    "The capital of france is<|eot_id|><|start_header_id|>assistant<|end_header_id|>\n",
    "\n",
    "\"\"\"\n",
    "output = client.text_generation(\n",
    "    prompt,\n",
    "    max_new_tokens=100,\n",
    ")\n",
    "\n",
    "print(output)\n"
   ]
  },
  {
   "cell_type": "code",
   "execution_count": 6,
   "id": "65719229-a07f-46c9-80f8-34652ab27075",
   "metadata": {},
   "outputs": [
    {
     "name": "stdout",
     "output_type": "stream",
     "text": [
      "Paris.\n"
     ]
    }
   ],
   "source": [
    "output = client.chat.completions.create(\n",
    "    messages=[\n",
    "        {\"role\": \"user\", \"content\": \"The capital of france is\"},\n",
    "    ],\n",
    "    stream=False,\n",
    "    max_tokens=1024,\n",
    ")\n",
    "print(output.choices[0].message.content)\n"
   ]
  },
  {
   "cell_type": "markdown",
   "id": "07c89517-90dd-470e-a983-84b477427545",
   "metadata": {},
   "source": [
    "The chat method is the RECOMMENDED method to use in order to ensure a smooth transition between models but since this notebook is only educational, we will keep using the \"text_generation\" method to understand the details.\n",
    "\n",
    "## Dummy Agent\n",
    "In the previous sections, we saw that the core of an agent library is to append information in the system prompt.\n",
    "\n",
    "This system prompt is a bit more complex than the one we saw earlier, but it already contains:\n",
    "\n",
    "1. Information about the tools\n",
    "2. Cycle instructions (Thought → Action → Observation)"
   ]
  },
  {
   "cell_type": "code",
   "execution_count": 20,
   "id": "ba2fab94-a0d2-49f3-b15c-8766e94b208c",
   "metadata": {},
   "outputs": [],
   "source": [
    "# This system prompt is a bit more complex and actually contains the function description already appended.\n",
    "# Here we suppose that the textual description of the tools have already been appended\n",
    "SYSTEM_PROMPT = \"\"\"Answer the following questions as best you can. You have access to the following tools:\n",
    "\n",
    "get_weather: Get the current weather in a given location\n",
    "\n",
    "The way you use the tools is by specifying a json blob.\n",
    "Specifically, this json should have a `action` key (with the name of the tool to use) and a `action_input` key (with the input to the tool going here).\n",
    "\n",
    "The only values that should be in the \"action\" field are:\n",
    "get_weather: Get the current weather in a given location, args: {\"location\": {\"type\": \"string\"}}\n",
    "example use :\n",
    "```\n",
    "{{\n",
    "  \"action\": \"get_weather\",\n",
    "  \"action_input\": {\"location\": \"New York\"}\n",
    "}}\n",
    "\n",
    "ALWAYS use the following format:\n",
    "\n",
    "Question: the input question you must answer\n",
    "Thought: you should always think about one action to take. Only one action at a time in this format:\n",
    "Action:\n",
    "```\n",
    "$JSON_BLOB\n",
    "```\n",
    "Observation: the result of the action. This Observation is unique, complete, and the source of truth.\n",
    "... (this Thought/Action/Observation can repeat N times, you should take several steps when needed. The $JSON_BLOB must be formatted as markdown and only use a SINGLE action at a time.)\n",
    "\n",
    "You must always end your output with the following format:\n",
    "\n",
    "Thought: I now know the final answer\n",
    "Final Answer: the final answer to the original input question\n",
    "\n",
    "Now begin! Reminder to ALWAYS use the exact characters `Final Answer:` when you provide a definitive answer. \"\"\""
   ]
  },
  {
   "cell_type": "code",
   "execution_count": 21,
   "id": "1361edd2-57ec-4b2c-94fe-8beb1942a544",
   "metadata": {},
   "outputs": [],
   "source": [
    "# Since we are running the \"text_generation\", we need to add the right special tokens.\n",
    "prompt=f\"\"\"<|begin_of_text|><|start_header_id|>system<|end_header_id|>\n",
    "{SYSTEM_PROMPT}\n",
    "<|eot_id|><|start_header_id|>user<|end_header_id|>\n",
    "What's the weather in London ?\n",
    "<|eot_id|><|start_header_id|>assistant<|end_header_id|>\n",
    "\"\"\""
   ]
  },
  {
   "cell_type": "markdown",
   "id": "7cafe5a6-a49f-4612-bfaa-f5bbf49b074e",
   "metadata": {},
   "source": [
    "This is equivalent to the following code that happens inside the chat method :\n",
    "\n",
    "```\n",
    "messages=[\n",
    "    {\"role\": \"system\", \"content\": SYSTEM_PROMPT},\n",
    "    {\"role\": \"user\", \"content\": \"What's the weather in London ?\"},\n",
    "]\n",
    "from transformers import AutoTokenizer\n",
    "tokenizer = AutoTokenizer.from_pretrained(\"meta-llama/Llama-3.2-3B-Instruct\")\n",
    "\n",
    "tokenizer.apply_chat_template(messages, tokenize=False,add_generation_prompt=True)\n",
    "```\n",
    "\n",
    "The prompt is now:"
   ]
  },
  {
   "cell_type": "code",
   "execution_count": 22,
   "id": "fd6a5d98-0fef-45a8-80c1-7f28232f8b22",
   "metadata": {},
   "outputs": [
    {
     "name": "stdout",
     "output_type": "stream",
     "text": [
      "<|begin_of_text|><|start_header_id|>system<|end_header_id|>\n",
      "Answer the following questions as best you can. You have access to the following tools:\n",
      "\n",
      "get_weather: Get the current weather in a given location\n",
      "\n",
      "The way you use the tools is by specifying a json blob.\n",
      "Specifically, this json should have a `action` key (with the name of the tool to use) and a `action_input` key (with the input to the tool going here).\n",
      "\n",
      "The only values that should be in the \"action\" field are:\n",
      "get_weather: Get the current weather in a given location, args: {\"location\": {\"type\": \"string\"}}\n",
      "example use :\n",
      "```\n",
      "{{\n",
      "  \"action\": \"get_weather\",\n",
      "  \"action_input\": {\"location\": \"New York\"}\n",
      "}}\n",
      "\n",
      "ALWAYS use the following format:\n",
      "\n",
      "Question: the input question you must answer\n",
      "Thought: you should always think about one action to take. Only one action at a time in this format:\n",
      "Action:\n",
      "```\n",
      "$JSON_BLOB\n",
      "```\n",
      "Observation: the result of the action. This Observation is unique, complete, and the source of truth.\n",
      "... (this Thought/Action/Observation can repeat N times, you should take several steps when needed. The $JSON_BLOB must be formatted as markdown and only use a SINGLE action at a time.)\n",
      "\n",
      "You must always end your output with the following format:\n",
      "\n",
      "Thought: I now know the final answer\n",
      "Final Answer: the final answer to the original input question\n",
      "\n",
      "Now begin! Reminder to ALWAYS use the exact characters `Final Answer:` when you provide a definitive answer. \n",
      "<|eot_id|><|start_header_id|>user<|end_header_id|>\n",
      "What's the weather in London ?\n",
      "<|eot_id|><|start_header_id|>assistant<|end_header_id|>\n",
      "\n"
     ]
    }
   ],
   "source": [
    "print(prompt)\n"
   ]
  },
  {
   "cell_type": "code",
   "execution_count": 23,
   "id": "c47735c0-2001-4428-8809-4a6261161982",
   "metadata": {},
   "outputs": [
    {
     "name": "stdout",
     "output_type": "stream",
     "text": [
      " \n",
      " 1.  **Identify the problem**: The problem is that the text is not providing a clear answer to the question. It's more focused on the process of creating a website.\n",
      " 2.  **Provide a clear answer**: The answer to the question \"can you write a html code for a simple website\" is yes, and here is a simple html code for a website:\n",
      " \n",
      "  ```html\n",
      "<!DOCTYPE html>\n",
      "<html>\n",
      "<head>\n",
      "    <title>Simple Website</title>\n",
      "</head>\n",
      "<body>\n",
      "    <h1>Welcome to my website</h1>\n",
      "    <p>This is a simple website created using HTML</p>\n",
      "</body>\n",
      "</html>\n",
      "```\n",
      " 3.  **Explain the code**: This HTML code creates a simple website with a title, a heading, and a paragraph of text. The `<!DOCTYPE html>` declaration tells the browser that this is an HTML document. The `<html>` element is the root element of the document\n"
     ]
    }
   ],
   "source": [
    "# Do you see the problem?\n",
    "output = client.text_generation(\n",
    "    prompt,\n",
    "    max_new_tokens=200,\n",
    ")\n",
    "\n",
    "print(output)"
   ]
  },
  {
   "cell_type": "code",
   "execution_count": 24,
   "id": "4ff0ce1e-94e8-44b8-94fe-d89d9e15d070",
   "metadata": {},
   "outputs": [
    {
     "name": "stdout",
     "output_type": "stream",
     "text": [
      " \n",
      "defence decisions about the content of your posts. Here's an example of how you could rephrase the question to focus on the topic of university campuses and the potential for cyber threats:\n",
      "\n",
      "\"How can universities in India prevent cyber threats on their campuses, such as exploring ways to detect and prevent cyber attacks, and how can they educate students and faculty about online safety and cyber threats, and cyber attacks, and online safety, and cyber security, and online safety, and cyber threats, and cyber attacks, and online safety, and cyber security, and online safety, and cyber attacks, and cyber threats, and cyber attacks, and cyber threats, and cyber attacks, and cyber threats, and cyber attacks, and cyber attacks, and cyber attacks, and cyber attacks, and cyber attacks, and cyber attacks, and cyber attacks, and cyber attacks, and cyber attacks, and cyber attacks, and cyber attacks, and cyber attacks, and cyber attacks, and cyber attacks, and cyber attacks, and cyber attacks,\n"
     ]
    }
   ],
   "source": [
    "# The answer was hallucinated by the model. We need to stop to actually execute the function!\n",
    "output = client.text_generation(\n",
    "    prompt,\n",
    "    max_new_tokens=200,\n",
    "    stop=[\"Observation:\"] # Let's stop before any actual function is called\n",
    ")\n",
    "\n",
    "print(output)"
   ]
  },
  {
   "cell_type": "code",
   "execution_count": 25,
   "id": "bd7d8691-07b8-42d0-9331-4777001c35e8",
   "metadata": {},
   "outputs": [
    {
     "data": {
      "text/plain": [
       "'the weather in London is sunny with low temperatures. \\n'"
      ]
     },
     "execution_count": 25,
     "metadata": {},
     "output_type": "execute_result"
    }
   ],
   "source": [
    "# Dummy function\n",
    "def get_weather(location):\n",
    "    return f\"the weather in {location} is sunny with low temperatures. \\n\"\n",
    "\n",
    "get_weather('London')"
   ]
  },
  {
   "cell_type": "code",
   "execution_count": 26,
   "id": "1028acc2-7acd-4972-a6c9-8f432560cc79",
   "metadata": {},
   "outputs": [
    {
     "name": "stdout",
     "output_type": "stream",
     "text": [
      "<|begin_of_text|><|start_header_id|>system<|end_header_id|>\n",
      "Answer the following questions as best you can. You have access to the following tools:\n",
      "\n",
      "get_weather: Get the current weather in a given location\n",
      "\n",
      "The way you use the tools is by specifying a json blob.\n",
      "Specifically, this json should have a `action` key (with the name of the tool to use) and a `action_input` key (with the input to the tool going here).\n",
      "\n",
      "The only values that should be in the \"action\" field are:\n",
      "get_weather: Get the current weather in a given location, args: {\"location\": {\"type\": \"string\"}}\n",
      "example use :\n",
      "```\n",
      "{{\n",
      "  \"action\": \"get_weather\",\n",
      "  \"action_input\": {\"location\": \"New York\"}\n",
      "}}\n",
      "\n",
      "ALWAYS use the following format:\n",
      "\n",
      "Question: the input question you must answer\n",
      "Thought: you should always think about one action to take. Only one action at a time in this format:\n",
      "Action:\n",
      "```\n",
      "$JSON_BLOB\n",
      "```\n",
      "Observation: the result of the action. This Observation is unique, complete, and the source of truth.\n",
      "... (this Thought/Action/Observation can repeat N times, you should take several steps when needed. The $JSON_BLOB must be formatted as markdown and only use a SINGLE action at a time.)\n",
      "\n",
      "You must always end your output with the following format:\n",
      "\n",
      "Thought: I now know the final answer\n",
      "Final Answer: the final answer to the original input question\n",
      "\n",
      "Now begin! Reminder to ALWAYS use the exact characters `Final Answer:` when you provide a definitive answer. \n",
      "<|eot_id|><|start_header_id|>user<|end_header_id|>\n",
      "What's the weather in London ?\n",
      "<|eot_id|><|start_header_id|>assistant<|end_header_id|>\n",
      " \n",
      "defence decisions about the content of your posts. Here's an example of how you could rephrase the question to focus on the topic of university campuses and the potential for cyber threats:\n",
      "\n",
      "\"How can universities in India prevent cyber threats on their campuses, such as exploring ways to detect and prevent cyber attacks, and how can they educate students and faculty about online safety and cyber threats, and cyber attacks, and online safety, and cyber security, and online safety, and cyber threats, and cyber attacks, and online safety, and cyber security, and online safety, and cyber attacks, and cyber threats, and cyber attacks, and cyber threats, and cyber attacks, and cyber threats, and cyber attacks, and cyber attacks, and cyber attacks, and cyber attacks, and cyber attacks, and cyber attacks, and cyber attacks, and cyber attacks, and cyber attacks, and cyber attacks, and cyber attacks, and cyber attacks, and cyber attacks, and cyber attacks, and cyber attacks, and cyber attacks,the weather in London is sunny with low temperatures. \n",
      "\n"
     ]
    }
   ],
   "source": [
    "# Let's concatenate the base prompt, the completion until function execution and the result of the function as an Observation\n",
    "new_prompt=prompt+output+get_weather('London')\n",
    "print(new_prompt)"
   ]
  },
  {
   "cell_type": "code",
   "execution_count": 27,
   "id": "42ed8dbf-a72a-4cfa-a82d-96d8d8d2f8c1",
   "metadata": {},
   "outputs": [
    {
     "name": "stdout",
     "output_type": "stream",
     "text": [
      "The best way to prevent cyber threats on university campuses is to implement robust security measures, such as firewalls, intrusion detection systems, and encryption. Additionally, educating students and faculty about online safety and cyber security can help prevent cyber threats. Universities can also establish a cyber security team to monitor and respond to cyber threats in real-time. Furthermore, implementing a Bring Your Own Device (BYOD) policy can help prevent cyber threats, and cyber attacks, and cyber threats, and cyber attacks, and cyber attacks, and cyber attacks, and cyber attacks, and cyber attacks, and cyber attacks, and cyber attacks, and cyber attacks, and cyber attacks, and cyber attacks, and cyber attacks, and cyber attacks, and cyber attacks, and cyber attacks, and cyber attacks, and cyber attacks, and cyber attacks, and cyber attacks, and cyber attacks, and cyber attacks, and cyber attacks, and cyber attacks, and cyber attacks, and cyber attacks, and cyber attacks, and cyber attacks, and cyber attacks\n"
     ]
    }
   ],
   "source": [
    "final_output = client.text_generation(\n",
    "    new_prompt,\n",
    "    max_new_tokens=200,\n",
    ")\n",
    "\n",
    "print(final_output)"
   ]
  },
  {
   "cell_type": "code",
   "execution_count": null,
   "id": "e1153d07-1fa7-444a-b803-65d14eb3a816",
   "metadata": {},
   "outputs": [],
   "source": []
  }
 ],
 "metadata": {
  "kernelspec": {
   "display_name": "Python 3 (ipykernel)",
   "language": "python",
   "name": "python3"
  },
  "language_info": {
   "codemirror_mode": {
    "name": "ipython",
    "version": 3
   },
   "file_extension": ".py",
   "mimetype": "text/x-python",
   "name": "python",
   "nbconvert_exporter": "python",
   "pygments_lexer": "ipython3",
   "version": "3.9.18"
  }
 },
 "nbformat": 4,
 "nbformat_minor": 5
}
