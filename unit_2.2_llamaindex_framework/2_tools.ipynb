{
 "cells": [
  {
   "cell_type": "markdown",
   "id": "c026862c",
   "metadata": {},
   "source": [
    "# Tools in LlamaIndex\n",
    "\n",
    "\n",
    "This notebook is part of the [Hugging Face Agents Course](https://www.hf.co/learn/agents-course), a free Course from beginner to expert, where you learn to build Agents.\n",
    "\n",
    "![Agents course share](https://huggingface.co/datasets/agents-course/course-images/resolve/main/en/communication/share.png)\n",
    "\n",
    "## Let's install the dependencies\n",
    "\n",
    "We will install the dependencies for this unit."
   ]
  },
  {
   "cell_type": "code",
   "execution_count": 1,
   "id": "566bc1ee",
   "metadata": {},
   "outputs": [
    {
     "data": {
      "application/vnd.jupyter.widget-view+json": {
       "model_id": "bb52f10933c84c0a987f2e18b0884d52",
       "version_major": 2,
       "version_minor": 0
      },
      "text/plain": [
       "VBox(children=(HTML(value='<center> <img\\nsrc=https://huggingface.co/front/assets/huggingface_logo-noborder.sv…"
      ]
     },
     "metadata": {},
     "output_type": "display_data"
    }
   ],
   "source": [
    "from huggingface_hub import login\n",
    "\n",
    "login()"
   ]
  },
  {
   "cell_type": "code",
   "execution_count": 5,
   "id": "bcf10406",
   "metadata": {},
   "outputs": [
    {
     "name": "stdout",
     "output_type": "stream",
     "text": [
      "Collecting llama-index-tools-google\n",
      "  Downloading llama_index_tools_google-0.3.0-py3-none-any.whl.metadata (894 bytes)\n",
      "Requirement already satisfied: beautifulsoup4<5.0.0,>=4.12.3 in /home/sagarnildass/anaconda3/lib/python3.11/site-packages (from llama-index-tools-google) (4.13.3)\n",
      "Collecting google-api-python-client<3.0.0,>=2.115.0 (from llama-index-tools-google)\n",
      "  Downloading google_api_python_client-2.163.0-py2.py3-none-any.whl.metadata (6.7 kB)\n",
      "Collecting google-auth-httplib2<0.3.0,>=0.2.0 (from llama-index-tools-google)\n",
      "  Downloading google_auth_httplib2-0.2.0-py2.py3-none-any.whl.metadata (2.2 kB)\n",
      "Collecting google-auth-oauthlib<2.0.0,>=1.2.0 (from llama-index-tools-google)\n",
      "  Downloading google_auth_oauthlib-1.2.1-py2.py3-none-any.whl.metadata (2.7 kB)\n",
      "Requirement already satisfied: llama-index-core<0.13.0,>=0.12.0 in /home/sagarnildass/anaconda3/lib/python3.11/site-packages (from llama-index-tools-google) (0.12.23.post2)\n",
      "Requirement already satisfied: soupsieve>1.2 in /home/sagarnildass/anaconda3/lib/python3.11/site-packages (from beautifulsoup4<5.0.0,>=4.12.3->llama-index-tools-google) (2.6)\n",
      "Requirement already satisfied: typing-extensions>=4.0.0 in /home/sagarnildass/anaconda3/lib/python3.11/site-packages (from beautifulsoup4<5.0.0,>=4.12.3->llama-index-tools-google) (4.12.2)\n",
      "Collecting httplib2<1.dev0,>=0.19.0 (from google-api-python-client<3.0.0,>=2.115.0->llama-index-tools-google)\n",
      "  Downloading httplib2-0.22.0-py3-none-any.whl.metadata (2.6 kB)\n",
      "Requirement already satisfied: google-auth!=2.24.0,!=2.25.0,<3.0.0.dev0,>=1.32.0 in /home/sagarnildass/anaconda3/lib/python3.11/site-packages (from google-api-python-client<3.0.0,>=2.115.0->llama-index-tools-google) (2.23.4)\n",
      "Collecting google-api-core!=2.0.*,!=2.1.*,!=2.2.*,!=2.3.0,<3.0.0.dev0,>=1.31.5 (from google-api-python-client<3.0.0,>=2.115.0->llama-index-tools-google)\n",
      "  Downloading google_api_core-2.24.2-py3-none-any.whl.metadata (3.0 kB)\n",
      "Collecting uritemplate<5,>=3.0.1 (from google-api-python-client<3.0.0,>=2.115.0->llama-index-tools-google)\n",
      "  Downloading uritemplate-4.1.1-py2.py3-none-any.whl.metadata (2.9 kB)\n",
      "Requirement already satisfied: requests-oauthlib>=0.7.0 in /home/sagarnildass/anaconda3/lib/python3.11/site-packages (from google-auth-oauthlib<2.0.0,>=1.2.0->llama-index-tools-google) (1.3.1)\n",
      "Requirement already satisfied: PyYAML>=6.0.1 in /home/sagarnildass/anaconda3/lib/python3.11/site-packages (from llama-index-core<0.13.0,>=0.12.0->llama-index-tools-google) (6.0.2)\n",
      "Requirement already satisfied: SQLAlchemy>=1.4.49 in /home/sagarnildass/anaconda3/lib/python3.11/site-packages (from SQLAlchemy[asyncio]>=1.4.49->llama-index-core<0.13.0,>=0.12.0->llama-index-tools-google) (2.0.38)\n",
      "Requirement already satisfied: aiohttp<4.0.0,>=3.8.6 in /home/sagarnildass/anaconda3/lib/python3.11/site-packages (from llama-index-core<0.13.0,>=0.12.0->llama-index-tools-google) (3.11.13)\n",
      "Requirement already satisfied: dataclasses-json in /home/sagarnildass/anaconda3/lib/python3.11/site-packages (from llama-index-core<0.13.0,>=0.12.0->llama-index-tools-google) (0.5.14)\n",
      "Requirement already satisfied: deprecated>=1.2.9.3 in /home/sagarnildass/anaconda3/lib/python3.11/site-packages (from llama-index-core<0.13.0,>=0.12.0->llama-index-tools-google) (1.2.15)\n",
      "Requirement already satisfied: dirtyjson<2.0.0,>=1.0.8 in /home/sagarnildass/anaconda3/lib/python3.11/site-packages (from llama-index-core<0.13.0,>=0.12.0->llama-index-tools-google) (1.0.8)\n",
      "Requirement already satisfied: filetype<2.0.0,>=1.2.0 in /home/sagarnildass/anaconda3/lib/python3.11/site-packages (from llama-index-core<0.13.0,>=0.12.0->llama-index-tools-google) (1.2.0)\n",
      "Requirement already satisfied: fsspec>=2023.5.0 in /home/sagarnildass/anaconda3/lib/python3.11/site-packages (from llama-index-core<0.13.0,>=0.12.0->llama-index-tools-google) (2023.12.2)\n",
      "Requirement already satisfied: httpx in /home/sagarnildass/anaconda3/lib/python3.11/site-packages (from llama-index-core<0.13.0,>=0.12.0->llama-index-tools-google) (0.28.1)\n",
      "Requirement already satisfied: nest-asyncio<2.0.0,>=1.5.8 in /home/sagarnildass/anaconda3/lib/python3.11/site-packages (from llama-index-core<0.13.0,>=0.12.0->llama-index-tools-google) (1.6.0)\n",
      "Requirement already satisfied: networkx>=3.0 in /home/sagarnildass/anaconda3/lib/python3.11/site-packages (from llama-index-core<0.13.0,>=0.12.0->llama-index-tools-google) (3.4.2)\n",
      "Requirement already satisfied: nltk>3.8.1 in /home/sagarnildass/anaconda3/lib/python3.11/site-packages (from llama-index-core<0.13.0,>=0.12.0->llama-index-tools-google) (3.9.1)\n",
      "Requirement already satisfied: numpy in /home/sagarnildass/anaconda3/lib/python3.11/site-packages (from llama-index-core<0.13.0,>=0.12.0->llama-index-tools-google) (1.26.4)\n",
      "Requirement already satisfied: pillow>=9.0.0 in /home/sagarnildass/anaconda3/lib/python3.11/site-packages (from llama-index-core<0.13.0,>=0.12.0->llama-index-tools-google) (11.1.0)\n",
      "Requirement already satisfied: pydantic>=2.8.0 in /home/sagarnildass/anaconda3/lib/python3.11/site-packages (from llama-index-core<0.13.0,>=0.12.0->llama-index-tools-google) (2.10.3)\n",
      "Requirement already satisfied: requests>=2.31.0 in /home/sagarnildass/anaconda3/lib/python3.11/site-packages (from llama-index-core<0.13.0,>=0.12.0->llama-index-tools-google) (2.32.3)\n",
      "Requirement already satisfied: tenacity!=8.4.0,<10.0.0,>=8.2.0 in /home/sagarnildass/anaconda3/lib/python3.11/site-packages (from llama-index-core<0.13.0,>=0.12.0->llama-index-tools-google) (9.0.0)\n",
      "Requirement already satisfied: tiktoken>=0.3.3 in /home/sagarnildass/anaconda3/lib/python3.11/site-packages (from llama-index-core<0.13.0,>=0.12.0->llama-index-tools-google) (0.9.0)\n",
      "Requirement already satisfied: tqdm<5.0.0,>=4.66.1 in /home/sagarnildass/anaconda3/lib/python3.11/site-packages (from llama-index-core<0.13.0,>=0.12.0->llama-index-tools-google) (4.67.0)\n",
      "Requirement already satisfied: typing-inspect>=0.8.0 in /home/sagarnildass/anaconda3/lib/python3.11/site-packages (from llama-index-core<0.13.0,>=0.12.0->llama-index-tools-google) (0.8.0)\n",
      "Requirement already satisfied: wrapt in /home/sagarnildass/anaconda3/lib/python3.11/site-packages (from llama-index-core<0.13.0,>=0.12.0->llama-index-tools-google) (1.17.2)\n",
      "Requirement already satisfied: aiohappyeyeballs>=2.3.0 in /home/sagarnildass/anaconda3/lib/python3.11/site-packages (from aiohttp<4.0.0,>=3.8.6->llama-index-core<0.13.0,>=0.12.0->llama-index-tools-google) (2.4.4)\n",
      "Requirement already satisfied: aiosignal>=1.1.2 in /home/sagarnildass/anaconda3/lib/python3.11/site-packages (from aiohttp<4.0.0,>=3.8.6->llama-index-core<0.13.0,>=0.12.0->llama-index-tools-google) (1.2.0)\n",
      "Requirement already satisfied: attrs>=17.3.0 in /home/sagarnildass/anaconda3/lib/python3.11/site-packages (from aiohttp<4.0.0,>=3.8.6->llama-index-core<0.13.0,>=0.12.0->llama-index-tools-google) (25.1.0)\n",
      "Requirement already satisfied: frozenlist>=1.1.1 in /home/sagarnildass/anaconda3/lib/python3.11/site-packages (from aiohttp<4.0.0,>=3.8.6->llama-index-core<0.13.0,>=0.12.0->llama-index-tools-google) (1.5.0)\n",
      "Requirement already satisfied: multidict<7.0,>=4.5 in /home/sagarnildass/anaconda3/lib/python3.11/site-packages (from aiohttp<4.0.0,>=3.8.6->llama-index-core<0.13.0,>=0.12.0->llama-index-tools-google) (6.1.0)\n",
      "Requirement already satisfied: propcache>=0.2.0 in /home/sagarnildass/anaconda3/lib/python3.11/site-packages (from aiohttp<4.0.0,>=3.8.6->llama-index-core<0.13.0,>=0.12.0->llama-index-tools-google) (0.2.0)\n",
      "Requirement already satisfied: yarl<2.0,>=1.17.0 in /home/sagarnildass/anaconda3/lib/python3.11/site-packages (from aiohttp<4.0.0,>=3.8.6->llama-index-core<0.13.0,>=0.12.0->llama-index-tools-google) (1.18.0)\n",
      "Requirement already satisfied: googleapis-common-protos<2.0.0,>=1.56.2 in /home/sagarnildass/anaconda3/lib/python3.11/site-packages (from google-api-core!=2.0.*,!=2.1.*,!=2.2.*,!=2.3.0,<3.0.0.dev0,>=1.31.5->google-api-python-client<3.0.0,>=2.115.0->llama-index-tools-google) (1.68.0)\n",
      "Requirement already satisfied: protobuf!=3.20.0,!=3.20.1,!=4.21.0,!=4.21.1,!=4.21.2,!=4.21.3,!=4.21.4,!=4.21.5,<7.0.0,>=3.19.5 in /home/sagarnildass/anaconda3/lib/python3.11/site-packages (from google-api-core!=2.0.*,!=2.1.*,!=2.2.*,!=2.3.0,<3.0.0.dev0,>=1.31.5->google-api-python-client<3.0.0,>=2.115.0->llama-index-tools-google) (5.29.3)\n"
     ]
    },
    {
     "name": "stdout",
     "output_type": "stream",
     "text": [
      "Collecting proto-plus<2.0.0,>=1.22.3 (from google-api-core!=2.0.*,!=2.1.*,!=2.2.*,!=2.3.0,<3.0.0.dev0,>=1.31.5->google-api-python-client<3.0.0,>=2.115.0->llama-index-tools-google)\n",
      "  Downloading proto_plus-1.26.1-py3-none-any.whl.metadata (2.2 kB)\n",
      "Requirement already satisfied: cachetools<6.0,>=2.0.0 in /home/sagarnildass/anaconda3/lib/python3.11/site-packages (from google-auth!=2.24.0,!=2.25.0,<3.0.0.dev0,>=1.32.0->google-api-python-client<3.0.0,>=2.115.0->llama-index-tools-google) (5.3.2)\n",
      "Requirement already satisfied: pyasn1-modules>=0.2.1 in /home/sagarnildass/anaconda3/lib/python3.11/site-packages (from google-auth!=2.24.0,!=2.25.0,<3.0.0.dev0,>=1.32.0->google-api-python-client<3.0.0,>=2.115.0->llama-index-tools-google) (0.4.1)\n",
      "Requirement already satisfied: rsa<5,>=3.1.4 in /home/sagarnildass/anaconda3/lib/python3.11/site-packages (from google-auth!=2.24.0,!=2.25.0,<3.0.0.dev0,>=1.32.0->google-api-python-client<3.0.0,>=2.115.0->llama-index-tools-google) (4.7.2)\n",
      "Requirement already satisfied: pyparsing!=3.0.0,!=3.0.1,!=3.0.2,!=3.0.3,<4,>=2.4.2 in /home/sagarnildass/anaconda3/lib/python3.11/site-packages (from httplib2<1.dev0,>=0.19.0->google-api-python-client<3.0.0,>=2.115.0->llama-index-tools-google) (3.2.1)\n",
      "Requirement already satisfied: click in /home/sagarnildass/anaconda3/lib/python3.11/site-packages (from nltk>3.8.1->llama-index-core<0.13.0,>=0.12.0->llama-index-tools-google) (8.1.8)\n",
      "Requirement already satisfied: joblib in /home/sagarnildass/anaconda3/lib/python3.11/site-packages (from nltk>3.8.1->llama-index-core<0.13.0,>=0.12.0->llama-index-tools-google) (1.4.2)\n",
      "Requirement already satisfied: regex>=2021.8.3 in /home/sagarnildass/anaconda3/lib/python3.11/site-packages (from nltk>3.8.1->llama-index-core<0.13.0,>=0.12.0->llama-index-tools-google) (2024.11.6)\n",
      "Requirement already satisfied: annotated-types>=0.6.0 in /home/sagarnildass/anaconda3/lib/python3.11/site-packages (from pydantic>=2.8.0->llama-index-core<0.13.0,>=0.12.0->llama-index-tools-google) (0.6.0)\n",
      "Requirement already satisfied: pydantic-core==2.27.1 in /home/sagarnildass/anaconda3/lib/python3.11/site-packages (from pydantic>=2.8.0->llama-index-core<0.13.0,>=0.12.0->llama-index-tools-google) (2.27.1)\n",
      "Requirement already satisfied: charset-normalizer<4,>=2 in /home/sagarnildass/anaconda3/lib/python3.11/site-packages (from requests>=2.31.0->llama-index-core<0.13.0,>=0.12.0->llama-index-tools-google) (3.4.1)\n",
      "Requirement already satisfied: idna<4,>=2.5 in /home/sagarnildass/anaconda3/lib/python3.11/site-packages (from requests>=2.31.0->llama-index-core<0.13.0,>=0.12.0->llama-index-tools-google) (3.10)\n",
      "Requirement already satisfied: urllib3<3,>=1.21.1 in /home/sagarnildass/anaconda3/lib/python3.11/site-packages (from requests>=2.31.0->llama-index-core<0.13.0,>=0.12.0->llama-index-tools-google) (2.3.0)\n",
      "Requirement already satisfied: certifi>=2017.4.17 in /home/sagarnildass/anaconda3/lib/python3.11/site-packages (from requests>=2.31.0->llama-index-core<0.13.0,>=0.12.0->llama-index-tools-google) (2025.1.31)\n",
      "Requirement already satisfied: oauthlib>=3.0.0 in /home/sagarnildass/anaconda3/lib/python3.11/site-packages (from requests-oauthlib>=0.7.0->google-auth-oauthlib<2.0.0,>=1.2.0->llama-index-tools-google) (3.2.2)\n",
      "Requirement already satisfied: greenlet!=0.4.17 in /home/sagarnildass/anaconda3/lib/python3.11/site-packages (from SQLAlchemy>=1.4.49->SQLAlchemy[asyncio]>=1.4.49->llama-index-core<0.13.0,>=0.12.0->llama-index-tools-google) (2.0.2)\n",
      "Requirement already satisfied: mypy-extensions>=0.3.0 in /home/sagarnildass/anaconda3/lib/python3.11/site-packages (from typing-inspect>=0.8.0->llama-index-core<0.13.0,>=0.12.0->llama-index-tools-google) (1.0.0)\n",
      "Requirement already satisfied: marshmallow<4.0.0,>=3.18.0 in /home/sagarnildass/anaconda3/lib/python3.11/site-packages (from dataclasses-json->llama-index-core<0.13.0,>=0.12.0->llama-index-tools-google) (3.20.1)\n",
      "Requirement already satisfied: anyio in /home/sagarnildass/anaconda3/lib/python3.11/site-packages (from httpx->llama-index-core<0.13.0,>=0.12.0->llama-index-tools-google) (4.8.0)\n",
      "Requirement already satisfied: httpcore==1.* in /home/sagarnildass/anaconda3/lib/python3.11/site-packages (from httpx->llama-index-core<0.13.0,>=0.12.0->llama-index-tools-google) (1.0.7)\n",
      "Requirement already satisfied: h11<0.15,>=0.13 in /home/sagarnildass/anaconda3/lib/python3.11/site-packages (from httpcore==1.*->httpx->llama-index-core<0.13.0,>=0.12.0->llama-index-tools-google) (0.14.0)\n",
      "Requirement already satisfied: packaging>=17.0 in /home/sagarnildass/anaconda3/lib/python3.11/site-packages (from marshmallow<4.0.0,>=3.18.0->dataclasses-json->llama-index-core<0.13.0,>=0.12.0->llama-index-tools-google) (24.2)\n",
      "Requirement already satisfied: pyasn1<0.7.0,>=0.4.6 in /home/sagarnildass/anaconda3/lib/python3.11/site-packages (from pyasn1-modules>=0.2.1->google-auth!=2.24.0,!=2.25.0,<3.0.0.dev0,>=1.32.0->google-api-python-client<3.0.0,>=2.115.0->llama-index-tools-google) (0.6.1)\n",
      "Requirement already satisfied: sniffio>=1.1 in /home/sagarnildass/anaconda3/lib/python3.11/site-packages (from anyio->httpx->llama-index-core<0.13.0,>=0.12.0->llama-index-tools-google) (1.3.1)\n",
      "Downloading llama_index_tools_google-0.3.0-py3-none-any.whl (8.2 kB)\n",
      "Downloading google_api_python_client-2.163.0-py2.py3-none-any.whl (13.1 MB)\n",
      "\u001b[2K   \u001b[38;2;114;156;31m━━━━━━━━━━━━━━━━━━━━━━━━━━━━━━━━━━━━━━━━\u001b[0m \u001b[32m13.1/13.1 MB\u001b[0m \u001b[31m92.8 MB/s\u001b[0m eta \u001b[36m0:00:00\u001b[0m\n",
      "\u001b[?25hDownloading google_auth_httplib2-0.2.0-py2.py3-none-any.whl (9.3 kB)\n",
      "Downloading google_auth_oauthlib-1.2.1-py2.py3-none-any.whl (24 kB)\n",
      "Downloading google_api_core-2.24.2-py3-none-any.whl (160 kB)\n",
      "Downloading httplib2-0.22.0-py3-none-any.whl (96 kB)\n",
      "Downloading uritemplate-4.1.1-py2.py3-none-any.whl (10 kB)\n",
      "Downloading proto_plus-1.26.1-py3-none-any.whl (50 kB)\n",
      "Installing collected packages: uritemplate, proto-plus, httplib2, google-auth-oauthlib, google-auth-httplib2, google-api-core, google-api-python-client, llama-index-tools-google\n",
      "  Attempting uninstall: google-auth-oauthlib\n",
      "    Found existing installation: google-auth-oauthlib 1.0.0\n",
      "    Uninstalling google-auth-oauthlib-1.0.0:\n",
      "      Successfully uninstalled google-auth-oauthlib-1.0.0\n",
      "\u001b[31mERROR: pip's dependency resolver does not currently take into account all the packages that are installed. This behaviour is the source of the following dependency conflicts.\n",
      "tensorboard 2.12.3 requires markdown>=2.6.8, which is not installed.\n",
      "tensorboard 2.12.3 requires werkzeug>=1.0.1, which is not installed.\n",
      "tensorboard 2.12.3 requires google-auth-oauthlib<1.1,>=0.5, but you have google-auth-oauthlib 1.2.1 which is incompatible.\u001b[0m\u001b[31m\n",
      "\u001b[0mSuccessfully installed google-api-core-2.24.2 google-api-python-client-2.163.0 google-auth-httplib2-0.2.0 google-auth-oauthlib-1.2.1 httplib2-0.22.0 llama-index-tools-google-0.3.0 proto-plus-1.26.1 uritemplate-4.1.1\n"
     ]
    }
   ],
   "source": [
    "!pip install llama-index-tools-google"
   ]
  },
  {
   "cell_type": "markdown",
   "id": "c3f9f65f",
   "metadata": {},
   "source": [
    "## Creating a FunctionTool\n",
    "\n",
    "Let's create a basic `FunctionTool` and call it."
   ]
  },
  {
   "cell_type": "code",
   "execution_count": 2,
   "id": "7fbfa1df",
   "metadata": {},
   "outputs": [
    {
     "name": "stdout",
     "output_type": "stream",
     "text": [
      "Getting weather for New York\n"
     ]
    },
    {
     "data": {
      "text/plain": [
       "ToolOutput(content='The weather in New York is sunny', tool_name='my_weather_tool', raw_input={'args': ('New York',), 'kwargs': {}}, raw_output='The weather in New York is sunny', is_error=False)"
      ]
     },
     "execution_count": 2,
     "metadata": {},
     "output_type": "execute_result"
    }
   ],
   "source": [
    "from llama_index.core.tools import FunctionTool\n",
    "\n",
    "\n",
    "def get_weather(location: str) -> str:\n",
    "    \"\"\"Useful for getting the weather for a given location.\"\"\"\n",
    "    print(f\"Getting weather for {location}\")\n",
    "    return f\"The weather in {location} is sunny\"\n",
    "\n",
    "\n",
    "tool = FunctionTool.from_defaults(\n",
    "    get_weather,\n",
    "    name=\"my_weather_tool\",\n",
    "    description=\"Useful for getting the weather for a given location.\",\n",
    ")\n",
    "tool.call(\"New York\")"
   ]
  },
  {
   "cell_type": "markdown",
   "id": "e7441c09",
   "metadata": {},
   "source": [
    "## Creating a QueryEngineTool\n",
    "\n",
    "Let's now re-use the `QueryEngine` we defined in the [previous unit on tools](/tools.ipynb) and convert it into a `QueryEngineTool`. "
   ]
  },
  {
   "cell_type": "code",
   "execution_count": 3,
   "id": "05d59ea2",
   "metadata": {},
   "outputs": [
    {
     "data": {
      "text/plain": [
       "ToolOutput(content='This individual is likely to be deeply concerned about the potential consequences of AI on marginalized communities, who may already face significant barriers to employment and social mobility. They may be particularly interested in research that explores how AI systems can perpetuate existing biases and inequalities, and how to develop more equitable and inclusive AI solutions that prioritize human well-being and dignity.', tool_name='some useful name', raw_input={'input': 'Responds about research on the impact of AI on the future of work and society?'}, raw_output=Response(response='This individual is likely to be deeply concerned about the potential consequences of AI on marginalized communities, who may already face significant barriers to employment and social mobility. They may be particularly interested in research that explores how AI systems can perpetuate existing biases and inequalities, and how to develop more equitable and inclusive AI solutions that prioritize human well-being and dignity.', source_nodes=[NodeWithScore(node=TextNode(id_='461d5ab1-6011-4620-b3ea-04c22808c1e3', embedding=None, metadata={'file_path': '/media/sagarnildass/d16f4193-0a7d-4eb8-8b71-235a0fc1224e/home/sagarnildass/python_notebooks/huggingface_agents_course/unit_2.2_llamaindex_framework/data/persona_10.txt', 'file_name': 'persona_10.txt', 'file_type': 'text/plain', 'file_size': 207, 'creation_date': '2025-03-12', 'last_modified_date': '2025-03-12'}, excluded_embed_metadata_keys=['file_name', 'file_type', 'file_size', 'creation_date', 'last_modified_date', 'last_accessed_date'], excluded_llm_metadata_keys=['file_name', 'file_type', 'file_size', 'creation_date', 'last_modified_date', 'last_accessed_date'], relationships={<NodeRelationship.SOURCE: '1'>: RelatedNodeInfo(node_id='8473c353-45a0-4fe3-8378-2c629a165d13', node_type='4', metadata={'file_path': '/media/sagarnildass/d16f4193-0a7d-4eb8-8b71-235a0fc1224e/home/sagarnildass/python_notebooks/huggingface_agents_course/unit_2.2_llamaindex_framework/data/persona_10.txt', 'file_name': 'persona_10.txt', 'file_type': 'text/plain', 'file_size': 207, 'creation_date': '2025-03-12', 'last_modified_date': '2025-03-12'}, hash='c8050445025de1548b9071378be6494c191700224ea763f7f4f09c9eb0869b10')}, metadata_template='{key}: {value}', metadata_separator='\\n', text='A social justice educator or activist focused on diversity, equity, and inclusion, likely working with families and communities to promote empathy and understanding of intersectional identity and oppression.', mimetype='text/plain', start_char_idx=0, end_char_idx=207, metadata_seperator='\\n', text_template='{metadata_str}\\n\\n{content}'), score=0.3917714374323959), NodeWithScore(node=TextNode(id_='3c15d31e-eb09-4922-a8b0-78402242d0cd', embedding=None, metadata={'file_path': '/media/sagarnildass/d16f4193-0a7d-4eb8-8b71-235a0fc1224e/home/sagarnildass/python_notebooks/huggingface_agents_course/unit_2.2_llamaindex_framework/data/persona_1004.txt', 'file_name': 'persona_1004.txt', 'file_type': 'text/plain', 'file_size': 160, 'creation_date': '2025-03-12', 'last_modified_date': '2025-03-12'}, excluded_embed_metadata_keys=['file_name', 'file_type', 'file_size', 'creation_date', 'last_modified_date', 'last_accessed_date'], excluded_llm_metadata_keys=['file_name', 'file_type', 'file_size', 'creation_date', 'last_modified_date', 'last_accessed_date'], relationships={<NodeRelationship.SOURCE: '1'>: RelatedNodeInfo(node_id='07ef1712-cd18-4292-b45f-a072c211c925', node_type='4', metadata={'file_path': '/media/sagarnildass/d16f4193-0a7d-4eb8-8b71-235a0fc1224e/home/sagarnildass/python_notebooks/huggingface_agents_course/unit_2.2_llamaindex_framework/data/persona_1004.txt', 'file_name': 'persona_1004.txt', 'file_type': 'text/plain', 'file_size': 160, 'creation_date': '2025-03-12', 'last_modified_date': '2025-03-12'}, hash='19628b0ae4a0f0ebd63b75e13df7d9183f42e8bb84358fdc2c9049c016c4b67d')}, metadata_template='{key}: {value}', metadata_separator='\\n', text='An environmental historian or urban planner focused on ecological conservation and sustainability, likely working in local government or a related organization.', mimetype='text/plain', start_char_idx=0, end_char_idx=160, metadata_seperator='\\n', text_template='{metadata_str}\\n\\n{content}'), score=0.39018654882671966)], metadata={'461d5ab1-6011-4620-b3ea-04c22808c1e3': {'file_path': '/media/sagarnildass/d16f4193-0a7d-4eb8-8b71-235a0fc1224e/home/sagarnildass/python_notebooks/huggingface_agents_course/unit_2.2_llamaindex_framework/data/persona_10.txt', 'file_name': 'persona_10.txt', 'file_type': 'text/plain', 'file_size': 207, 'creation_date': '2025-03-12', 'last_modified_date': '2025-03-12'}, '3c15d31e-eb09-4922-a8b0-78402242d0cd': {'file_path': '/media/sagarnildass/d16f4193-0a7d-4eb8-8b71-235a0fc1224e/home/sagarnildass/python_notebooks/huggingface_agents_course/unit_2.2_llamaindex_framework/data/persona_1004.txt', 'file_name': 'persona_1004.txt', 'file_type': 'text/plain', 'file_size': 160, 'creation_date': '2025-03-12', 'last_modified_date': '2025-03-12'}}), is_error=False)"
      ]
     },
     "execution_count": 3,
     "metadata": {},
     "output_type": "execute_result"
    }
   ],
   "source": [
    "import chromadb\n",
    "\n",
    "from llama_index.core import VectorStoreIndex\n",
    "from llama_index.llms.huggingface_api import HuggingFaceInferenceAPI\n",
    "from llama_index.embeddings.huggingface_api import HuggingFaceInferenceAPIEmbedding\n",
    "from llama_index.core.tools import QueryEngineTool\n",
    "from llama_index.vector_stores.chroma import ChromaVectorStore\n",
    "\n",
    "db = chromadb.PersistentClient(path=\"./alfred_chroma_db\")\n",
    "chroma_collection = db.get_or_create_collection(\"alfred\")\n",
    "vector_store = ChromaVectorStore(chroma_collection=chroma_collection)\n",
    "embed_model = HuggingFaceInferenceAPIEmbedding(model_name=\"BAAI/bge-small-en-v1.5\")\n",
    "llm = HuggingFaceInferenceAPI(model_name=\"meta-llama/Llama-3.2-3B-Instruct\")\n",
    "index = VectorStoreIndex.from_vector_store(\n",
    "    vector_store=vector_store, embed_model=embed_model\n",
    ")\n",
    "query_engine = index.as_query_engine(llm=llm)\n",
    "tool = QueryEngineTool.from_defaults(\n",
    "    query_engine=query_engine,\n",
    "    name=\"some useful name\",\n",
    "    description=\"some useful description\",\n",
    ")\n",
    "await tool.acall(\n",
    "    \"Responds about research on the impact of AI on the future of work and society?\"\n",
    ")"
   ]
  },
  {
   "cell_type": "markdown",
   "id": "720d7cd9",
   "metadata": {},
   "source": [
    "## Creating Toolspecs\n",
    "\n",
    "Let's create a `ToolSpec` from the `GmailToolSpec` from the LlamaHub and convert it to a list of tools. "
   ]
  },
  {
   "cell_type": "code",
   "execution_count": 6,
   "id": "e32e9763",
   "metadata": {},
   "outputs": [
    {
     "data": {
      "text/plain": [
       "[<llama_index.core.tools.function_tool.FunctionTool at 0x782c2a5f3110>,\n",
       " <llama_index.core.tools.function_tool.FunctionTool at 0x782c2a153a50>,\n",
       " <llama_index.core.tools.function_tool.FunctionTool at 0x782c2a2db2d0>,\n",
       " <llama_index.core.tools.function_tool.FunctionTool at 0x782c2b6961d0>,\n",
       " <llama_index.core.tools.function_tool.FunctionTool at 0x782c2a77c050>,\n",
       " <llama_index.core.tools.function_tool.FunctionTool at 0x782c2a77eb50>]"
      ]
     },
     "execution_count": 6,
     "metadata": {},
     "output_type": "execute_result"
    }
   ],
   "source": [
    "from llama_index.tools.google import GmailToolSpec\n",
    "\n",
    "tool_spec = GmailToolSpec()\n",
    "tool_spec_list = tool_spec.to_tool_list()\n",
    "tool_spec_list"
   ]
  },
  {
   "cell_type": "code",
   "execution_count": 7,
   "id": "6ce3270c",
   "metadata": {},
   "outputs": [
    {
     "data": {
      "text/plain": [
       "[('load_data',\n",
       "  \"load_data() -> List[llama_index.core.schema.Document]\\nLoad emails from the user's account.\"),\n",
       " ('search_messages',\n",
       "  \"search_messages(query: str, max_results: Optional[int] = None)\\nSearches email messages given a query string and the maximum number\\n        of results requested by the user\\n           Returns: List of relevant message objects up to the maximum number of results.\\n\\n        Args:\\n            query[str]: The user's query\\n            max_results (Optional[int]): The maximum number of search results\\n            to return.\\n        \"),\n",
       " ('create_draft',\n",
       "  \"create_draft(to: Optional[List[str]] = None, subject: Optional[str] = None, message: Optional[str] = None) -> str\\nCreate and insert a draft email.\\n           Print the returned draft's message and id.\\n           Returns: Draft object, including draft id and message meta data.\\n\\n        Args:\\n            to (Optional[str]): The email addresses to send the message to\\n            subject (Optional[str]): The subject for the event\\n            message (Optional[str]): The message for the event\\n        \"),\n",
       " ('update_draft',\n",
       "  \"update_draft(to: Optional[List[str]] = None, subject: Optional[str] = None, message: Optional[str] = None, draft_id: str = None) -> str\\nUpdate a draft email.\\n           Print the returned draft's message and id.\\n           This function is required to be passed a draft_id that is obtained when creating messages\\n           Returns: Draft object, including draft id and message meta data.\\n\\n        Args:\\n            to (Optional[str]): The email addresses to send the message to\\n            subject (Optional[str]): The subject for the event\\n            message (Optional[str]): The message for the event\\n            draft_id (str): the id of the draft to be updated\\n        \"),\n",
       " ('get_draft',\n",
       "  \"get_draft(draft_id: str = None) -> str\\nGet a draft email.\\n           Print the returned draft's message and id.\\n           Returns: Draft object, including draft id and message meta data.\\n\\n        Args:\\n            draft_id (str): the id of the draft to be updated\\n        \"),\n",
       " ('send_draft',\n",
       "  \"send_draft(draft_id: str = None) -> str\\nSends a draft email.\\n           Print the returned draft's message and id.\\n           Returns: Draft object, including draft id and message meta data.\\n\\n        Args:\\n            draft_id (str): the id of the draft to be updated\\n        \")]"
      ]
     },
     "execution_count": 7,
     "metadata": {},
     "output_type": "execute_result"
    }
   ],
   "source": [
    "[(tool.metadata.name, tool.metadata.description) for tool in tool_spec_list]"
   ]
  },
  {
   "cell_type": "code",
   "execution_count": null,
   "id": "292f3ef2",
   "metadata": {},
   "outputs": [],
   "source": []
  }
 ],
 "metadata": {
  "kernelspec": {
   "display_name": "Python 3 (ipykernel)",
   "language": "python",
   "name": "python3"
  },
  "language_info": {
   "codemirror_mode": {
    "name": "ipython",
    "version": 3
   },
   "file_extension": ".py",
   "mimetype": "text/x-python",
   "name": "python",
   "nbconvert_exporter": "python",
   "pygments_lexer": "ipython3",
   "version": "3.11.11"
  }
 },
 "nbformat": 4,
 "nbformat_minor": 5
}
