{
 "cells": [
  {
   "cell_type": "markdown",
   "id": "96bdab75",
   "metadata": {},
   "source": [
    "# Agents in LlamaIndex\n",
    "\n",
    "This notebook is part of the [Hugging Face Agents Course](https://www.hf.co/learn/agents-course), a free Course from beginner to expert, where you learn to build Agents.\n",
    "\n",
    "![Agents course share](https://huggingface.co/datasets/agents-course/course-images/resolve/main/en/communication/share.png)\n",
    "\n",
    "## Let's install the dependencies\n",
    "\n",
    "We will install the dependencies for this unit."
   ]
  },
  {
   "cell_type": "code",
   "execution_count": 1,
   "id": "481e40fa",
   "metadata": {},
   "outputs": [
    {
     "data": {
      "application/vnd.jupyter.widget-view+json": {
       "model_id": "3d1d64592d4f4eebbc32c3f576b54365",
       "version_major": 2,
       "version_minor": 0
      },
      "text/plain": [
       "VBox(children=(HTML(value='<center> <img\\nsrc=https://huggingface.co/front/assets/huggingface_logo-noborder.sv…"
      ]
     },
     "metadata": {},
     "output_type": "display_data"
    }
   ],
   "source": [
    "from huggingface_hub import login\n",
    "\n",
    "login()"
   ]
  },
  {
   "cell_type": "markdown",
   "id": "b76f0917",
   "metadata": {},
   "source": [
    "## Initialising agents\n",
    "\n",
    "Let's start by initialising an agent. We will use the basic `AgentWorkflow` class to create an agent."
   ]
  },
  {
   "cell_type": "code",
   "execution_count": 2,
   "id": "3c014586",
   "metadata": {},
   "outputs": [],
   "source": [
    "from llama_index.llms.huggingface_api import HuggingFaceInferenceAPI\n",
    "from llama_index.core.agent.workflow import AgentWorkflow, ToolCallResult, AgentStream\n",
    "\n",
    "\n",
    "def add(a: int, b: int) -> int:\n",
    "    \"\"\"Add two numbers\"\"\"\n",
    "    return a + b\n",
    "\n",
    "\n",
    "def subtract(a: int, b: int) -> int:\n",
    "    \"\"\"Subtract two numbers\"\"\"\n",
    "    return a - b\n",
    "\n",
    "\n",
    "def multiply(a: int, b: int) -> int:\n",
    "    \"\"\"Multiply two numbers\"\"\"\n",
    "    return a * b\n",
    "\n",
    "\n",
    "def divide(a: int, b: int) -> int:\n",
    "    \"\"\"Divide two numbers\"\"\"\n",
    "    return a / b\n",
    "\n",
    "\n",
    "llm = HuggingFaceInferenceAPI(model_name=\"Qwen/Qwen2.5-Coder-32B-Instruct\")\n",
    "\n",
    "agent = AgentWorkflow.from_tools_or_functions(\n",
    "    tools_or_functions=[subtract, multiply, divide, add],\n",
    "    llm=llm,\n",
    "    system_prompt=\"You are a math agent that can add, subtract, multiply, and divide numbers using provided tools.\",\n",
    ")"
   ]
  },
  {
   "cell_type": "markdown",
   "id": "7b32ed3a",
   "metadata": {},
   "source": [
    "Then, we can run the agent and get the response and reasoning behind the tool calls."
   ]
  },
  {
   "cell_type": "code",
   "execution_count": 3,
   "id": "b7d067f4",
   "metadata": {},
   "outputs": [
    {
     "name": "stdout",
     "output_type": "stream",
     "text": [
      "Thought: The current language of the user is: English. I need to use a tool to help me answer the question.\n",
      "Action: add\n",
      "Action Input: {\"a\": 2, \"b\": 2}\n",
      "Called tool:  add {'a': 2, 'b': 2} => 4\n",
      "Thought: I now have the result of the addition. I need to multiply this result by 2.\n",
      "Action: multiply\n",
      "Action Input: {'a': 4, 'b': 2}\n",
      "Called tool:  multiply {'a': 4, 'b': 2} => 8\n",
      "Thought: I can answer without using any more tools. I'll use the user's language to answer\n",
      "Answer: (2 + 2) * 2 = 8"
     ]
    },
    {
     "data": {
      "text/plain": [
       "AgentOutput(response=ChatMessage(role=<MessageRole.ASSISTANT: 'assistant'>, additional_kwargs={}, blocks=[TextBlock(block_type='text', text='(2 + 2) * 2 = 8')]), tool_calls=[ToolCallResult(tool_name='add', tool_kwargs={'a': 2, 'b': 2}, tool_id='45137b3c-7f4d-44da-b02a-4f9ec6b56d46', tool_output=ToolOutput(content='4', tool_name='add', raw_input={'args': (), 'kwargs': {'a': 2, 'b': 2}}, raw_output=4, is_error=False), return_direct=False), ToolCallResult(tool_name='multiply', tool_kwargs={'a': 4, 'b': 2}, tool_id='f482d6a5-7624-4ca9-a064-70877871a578', tool_output=ToolOutput(content='8', tool_name='multiply', raw_input={'args': (), 'kwargs': {'a': 4, 'b': 2}}, raw_output=8, is_error=False), return_direct=False)], raw=ChatCompletionStreamOutput(choices=[ChatCompletionStreamOutputChoice(delta=ChatCompletionStreamOutputDelta(role='assistant', content='8', tool_calls=None), index=0, finish_reason=None, logprobs=None)], created=1741753562, id='', model='Qwen/Qwen2.5-Coder-32B-Instruct', system_fingerprint='3.0.1-sha-bb9095a', usage=None, object='chat.completion.chunk'), current_agent_name='Agent')"
      ]
     },
     "execution_count": 3,
     "metadata": {},
     "output_type": "execute_result"
    }
   ],
   "source": [
    "handler = agent.run(\"What is (2 + 2) * 2?\")\n",
    "async for ev in handler.stream_events():\n",
    "    if isinstance(ev, ToolCallResult):\n",
    "        print(\"\")\n",
    "        print(\"Called tool: \", ev.tool_name, ev.tool_kwargs, \"=>\", ev.tool_output)\n",
    "    elif isinstance(ev, AgentStream):  # showing the thought process\n",
    "        print(ev.delta, end=\"\", flush=True)\n",
    "\n",
    "resp = await handler\n",
    "resp"
   ]
  },
  {
   "cell_type": "markdown",
   "id": "843c622b",
   "metadata": {},
   "source": [
    "In a similar fashion, we can pass state and context to the agent.\n"
   ]
  },
  {
   "cell_type": "code",
   "execution_count": 4,
   "id": "f8396630",
   "metadata": {},
   "outputs": [
    {
     "data": {
      "text/plain": [
       "AgentOutput(response=ChatMessage(role=<MessageRole.ASSISTANT: 'assistant'>, additional_kwargs={}, blocks=[TextBlock(block_type='text', text='Your name is Bob. How can I assist you further?')]), tool_calls=[], raw=ChatCompletionStreamOutput(choices=[ChatCompletionStreamOutputChoice(delta=ChatCompletionStreamOutputDelta(role='assistant', content='?', tool_calls=None), index=0, finish_reason=None, logprobs=None)], created=1741753631, id='', model='Qwen/Qwen2.5-Coder-32B-Instruct', system_fingerprint='3.0.1-sha-bb9095a', usage=None, object='chat.completion.chunk'), current_agent_name='Agent')"
      ]
     },
     "execution_count": 4,
     "metadata": {},
     "output_type": "execute_result"
    }
   ],
   "source": [
    "from llama_index.core.workflow import Context\n",
    "\n",
    "ctx = Context(agent)\n",
    "\n",
    "response = await agent.run(\"My name is Bob.\", ctx=ctx)\n",
    "response = await agent.run(\"What was my name again?\", ctx=ctx)\n",
    "response"
   ]
  },
  {
   "cell_type": "markdown",
   "id": "3fc05312",
   "metadata": {},
   "source": [
    "## Creating RAG Agents with QueryEngineTools\n",
    "\n",
    "Let's now re-use the `QueryEngine` we defined in the [previous unit on tools](/tools.ipynb) and convert it into a `QueryEngineTool`. We will pass it to the `AgentWorkflow` class to create a RAG agent."
   ]
  },
  {
   "cell_type": "code",
   "execution_count": 5,
   "id": "a0f77c02",
   "metadata": {},
   "outputs": [],
   "source": [
    "import chromadb\n",
    "\n",
    "from llama_index.core import VectorStoreIndex\n",
    "from llama_index.llms.huggingface_api import HuggingFaceInferenceAPI\n",
    "from llama_index.embeddings.huggingface_api import HuggingFaceInferenceAPIEmbedding\n",
    "from llama_index.core.tools import QueryEngineTool\n",
    "from llama_index.vector_stores.chroma import ChromaVectorStore\n",
    "\n",
    "# Create a vector store\n",
    "db = chromadb.PersistentClient(path=\"./alfred_chroma_db\")\n",
    "chroma_collection = db.get_or_create_collection(\"alfred\")\n",
    "vector_store = ChromaVectorStore(chroma_collection=chroma_collection)\n",
    "\n",
    "# Create a query engine\n",
    "embed_model = HuggingFaceInferenceAPIEmbedding(model_name=\"BAAI/bge-small-en-v1.5\")\n",
    "llm = HuggingFaceInferenceAPI(model_name=\"Qwen/Qwen2.5-Coder-32B-Instruct\")\n",
    "index = VectorStoreIndex.from_vector_store(\n",
    "    vector_store=vector_store, embed_model=embed_model\n",
    ")\n",
    "query_engine = index.as_query_engine(llm=llm)\n",
    "query_engine_tool = QueryEngineTool.from_defaults(\n",
    "    query_engine=query_engine,\n",
    "    name=\"personas\",\n",
    "    description=\"descriptions for various types of personas\",\n",
    "    return_direct=False,\n",
    ")\n",
    "\n",
    "# Create a RAG agent\n",
    "query_engine_agent = AgentWorkflow.from_tools_or_functions(\n",
    "    tools_or_functions=[query_engine_tool],\n",
    "    llm=llm,\n",
    "    system_prompt=\"You are a helpful assistant that has access to a database containing persona descriptions. \",\n",
    ")"
   ]
  },
  {
   "cell_type": "code",
   "execution_count": 7,
   "id": "0bb1f80a",
   "metadata": {
    "scrolled": false
   },
   "outputs": [
    {
     "name": "stdout",
     "output_type": "stream",
     "text": [
      "Thought: The current language of the user is: English. I need to use a tool to help me answer the question.\n",
      "Action: personas\n",
      "Action Input: {\"input\": \"algorithmic problem-solving\"}\n",
      "Called tool:  personas {'input': 'algorithmic problem-solving'} => Algorithmic problem-solving involves breaking down complex problems into smaller, manageable parts and developing a step-by-step approach to solve them. This skill is crucial in various fields, including web development and special education. In web development, it helps in writing efficient code and optimizing website performance. For a special education teacher, it can be applied in designing personalized learning plans and using technology to enhance learning experiences for students with diverse needs.\n",
      "Thought: The observation provided is a description of algorithmic problem-solving rather than persona descriptions. I need to refine my request to get the persona descriptions related to algorithmic problem-solving.\n",
      "Action: personas\n",
      "Action Input: {'input': 'personas with algorithmic problem-solving skills'}\n",
      "Called tool:  personas {'input': 'personas with algorithmic problem-solving skills'} => The provided context does not mention any personas with algorithmic problem-solving skills. The descriptions focus on a web developer or student with a focus on HTML, CSS, and website building, and a special education teacher or instructional specialist with a focus on inclusive education and assistive technology.\n",
      "Thought: Given the current observation, it seems the database does not have specific personas labeled with \"algorithmic problem-solving skills.\" However, I can still provide descriptions of personas who might inherently possess or use algorithmic problem-solving skills, such as software engineers, data scientists, or educators in STEM fields.\n",
      "\n",
      "Action: personas\n",
      "Action Input: {'input': 'software engineer, data scientist, STEM educator'}\n",
      "Called tool:  personas {'input': 'software engineer, data scientist, STEM educator'} => The provided context does not include information about a software engineer, data scientist, or STEM educator. The details given pertain to a special education teacher or instructional specialist focused on inclusive education and assistive technology, and a web developer or web development student.\n",
      "Thought: Given the current observation, it seems the database does not have specific personas for software engineers, data scientists, or STEM educators. However, I can still provide descriptions of the personas mentioned: a special education teacher or instructional specialist, and a web developer or web development student, as they might also use algorithmic problem-solving skills in their respective fields.\n",
      "Action: personas\n",
      "Action Input: {'input': 'special education teacher, web developer'}\n",
      "Called tool:  personas {'input': 'special education teacher, web developer'} => The descriptions provided outline two distinct roles. One individual is a special education teacher or instructional specialist with a focus on inclusive education and assistive technology, catering to students with diverse learning needs. The other is a web developer or a web development student, concentrating on foundational web technologies such as HTML, CSS, and website construction.\n",
      "Thought: I can answer without using any more tools. I'll use the user's language to answer\n",
      "Answer: Based on the provided descriptions, here are the persona descriptions related to the roles mentioned:\n",
      "\n",
      "1. **Special Education Teacher or Instructional Specialist**:\n",
      "   - **Focus**: Inclusive education and assistive technology.\n",
      "   - **Role**: Catering to students with diverse learning needs.\n",
      "   - **Skills**: Likely uses algorithmic problem-solving skills to design personalized learning plans, integrate technology to enhance learning experiences, and address individual student challenges.\n",
      "\n",
      "2. **Web Developer or Web Development Student**:\n",
      "   - **Focus**: Foundational web technologies such as HTML, CSS, and website construction.\n",
      "   - **Role**: Developing and optimizing websites.\n",
      "   - **Skills**: Employs algorithmic problem-solving skills to write efficient code, optimize website performance, and troubleshoot technical issues."
     ]
    },
    {
     "data": {
      "text/plain": [
       "AgentOutput(response=ChatMessage(role=<MessageRole.ASSISTANT: 'assistant'>, additional_kwargs={}, blocks=[TextBlock(block_type='text', text='Based on the provided descriptions, here are the persona descriptions related to the roles mentioned:\\n\\n1. **Special Education Teacher or Instructional Specialist**:\\n   - **Focus**: Inclusive education and assistive technology.\\n   - **Role**: Catering to students with diverse learning needs.\\n   - **Skills**: Likely uses algorithmic problem-solving skills to design personalized learning plans, integrate technology to enhance learning experiences, and address individual student challenges.\\n\\n2. **Web Developer or Web Development Student**:\\n   - **Focus**: Foundational web technologies such as HTML, CSS, and website construction.\\n   - **Role**: Developing and optimizing websites.\\n   - **Skills**: Employs algorithmic problem-solving skills to write efficient code, optimize website performance, and troubleshoot technical issues.')]), tool_calls=[ToolCallResult(tool_name='personas', tool_kwargs={'input': 'algorithmic problem-solving'}, tool_id='7a81d779-c7ff-47cb-99bf-73ae5152876b', tool_output=ToolOutput(content='Algorithmic problem-solving involves breaking down complex problems into smaller, manageable parts and developing a step-by-step approach to solve them. This skill is crucial in various fields, including web development and special education. In web development, it helps in writing efficient code and optimizing website performance. For a special education teacher, it can be applied in designing personalized learning plans and using technology to enhance learning experiences for students with diverse needs.', tool_name='personas', raw_input={'input': 'algorithmic problem-solving'}, raw_output=Response(response='Algorithmic problem-solving involves breaking down complex problems into smaller, manageable parts and developing a step-by-step approach to solve them. This skill is crucial in various fields, including web development and special education. In web development, it helps in writing efficient code and optimizing website performance. For a special education teacher, it can be applied in designing personalized learning plans and using technology to enhance learning experiences for students with diverse needs.', source_nodes=[NodeWithScore(node=TextNode(id_='6128b4b2-0815-4101-b369-fed795ce18f0', embedding=None, metadata={'file_path': '/media/sagarnildass/d16f4193-0a7d-4eb8-8b71-235a0fc1224e/home/sagarnildass/python_notebooks/huggingface_agents_course/unit_2.2_llamaindex_framework/data/persona_1001.txt', 'file_name': 'persona_1001.txt', 'file_type': 'text/plain', 'file_size': 157, 'creation_date': '2025-03-12', 'last_modified_date': '2025-03-12'}, excluded_embed_metadata_keys=['file_name', 'file_type', 'file_size', 'creation_date', 'last_modified_date', 'last_accessed_date'], excluded_llm_metadata_keys=['file_name', 'file_type', 'file_size', 'creation_date', 'last_modified_date', 'last_accessed_date'], relationships={<NodeRelationship.SOURCE: '1'>: RelatedNodeInfo(node_id='8e92d3b6-956a-469a-9bb9-c7f1ff9e6ab2', node_type='4', metadata={'file_path': '/media/sagarnildass/d16f4193-0a7d-4eb8-8b71-235a0fc1224e/home/sagarnildass/python_notebooks/huggingface_agents_course/unit_2.2_llamaindex_framework/data/persona_1001.txt', 'file_name': 'persona_1001.txt', 'file_type': 'text/plain', 'file_size': 157, 'creation_date': '2025-03-12', 'last_modified_date': '2025-03-12'}, hash='95ea9bb7700f8b67bf3d4d1f7fb9fd4b8bb3641e76cef3ec47efb0c36f6a95fb')}, metadata_template='{key}: {value}', metadata_separator='\\n', text='A web developer or a web development student, likely in the early stages of their learning or career, with a strong focus on HTML, CSS, and website building.', mimetype='text/plain', start_char_idx=0, end_char_idx=157, metadata_seperator='\\n', text_template='{metadata_str}\\n\\n{content}'), score=0.45094436990767106), NodeWithScore(node=TextNode(id_='1d675bb2-bbc9-40e2-896b-f99230472304', embedding=None, metadata={'file_path': '/media/sagarnildass/d16f4193-0a7d-4eb8-8b71-235a0fc1224e/home/sagarnildass/python_notebooks/huggingface_agents_course/unit_2.2_llamaindex_framework/data/persona_1003.txt', 'file_name': 'persona_1003.txt', 'file_type': 'text/plain', 'file_size': 170, 'creation_date': '2025-03-12', 'last_modified_date': '2025-03-12'}, excluded_embed_metadata_keys=['file_name', 'file_type', 'file_size', 'creation_date', 'last_modified_date', 'last_accessed_date'], excluded_llm_metadata_keys=['file_name', 'file_type', 'file_size', 'creation_date', 'last_modified_date', 'last_accessed_date'], relationships={<NodeRelationship.SOURCE: '1'>: RelatedNodeInfo(node_id='5068d455-f708-4c5c-849b-fca58be44ec1', node_type='4', metadata={'file_path': '/media/sagarnildass/d16f4193-0a7d-4eb8-8b71-235a0fc1224e/home/sagarnildass/python_notebooks/huggingface_agents_course/unit_2.2_llamaindex_framework/data/persona_1003.txt', 'file_name': 'persona_1003.txt', 'file_type': 'text/plain', 'file_size': 170, 'creation_date': '2025-03-12', 'last_modified_date': '2025-03-12'}, hash='04cffc0652a9718f5fb9e38c0963cf2424689febd46fd8a85e1c85fddfed744d')}, metadata_template='{key}: {value}', metadata_separator='\\n', text='A special education teacher or instructional specialist focused on inclusive education and assistive technology, likely working with students with diverse learning needs.', mimetype='text/plain', start_char_idx=0, end_char_idx=170, metadata_seperator='\\n', text_template='{metadata_str}\\n\\n{content}'), score=0.4377854786386828)], metadata={'6128b4b2-0815-4101-b369-fed795ce18f0': {'file_path': '/media/sagarnildass/d16f4193-0a7d-4eb8-8b71-235a0fc1224e/home/sagarnildass/python_notebooks/huggingface_agents_course/unit_2.2_llamaindex_framework/data/persona_1001.txt', 'file_name': 'persona_1001.txt', 'file_type': 'text/plain', 'file_size': 157, 'creation_date': '2025-03-12', 'last_modified_date': '2025-03-12'}, '1d675bb2-bbc9-40e2-896b-f99230472304': {'file_path': '/media/sagarnildass/d16f4193-0a7d-4eb8-8b71-235a0fc1224e/home/sagarnildass/python_notebooks/huggingface_agents_course/unit_2.2_llamaindex_framework/data/persona_1003.txt', 'file_name': 'persona_1003.txt', 'file_type': 'text/plain', 'file_size': 170, 'creation_date': '2025-03-12', 'last_modified_date': '2025-03-12'}}), is_error=False), return_direct=False), ToolCallResult(tool_name='personas', tool_kwargs={'input': 'personas with algorithmic problem-solving skills'}, tool_id='f165caef-a67a-4e43-91c9-fe00fc100436', tool_output=ToolOutput(content='The provided context does not mention any personas with algorithmic problem-solving skills. The descriptions focus on a web developer or student with a focus on HTML, CSS, and website building, and a special education teacher or instructional specialist with a focus on inclusive education and assistive technology.', tool_name='personas', raw_input={'input': 'personas with algorithmic problem-solving skills'}, raw_output=Response(response='The provided context does not mention any personas with algorithmic problem-solving skills. The descriptions focus on a web developer or student with a focus on HTML, CSS, and website building, and a special education teacher or instructional specialist with a focus on inclusive education and assistive technology.', source_nodes=[NodeWithScore(node=TextNode(id_='6128b4b2-0815-4101-b369-fed795ce18f0', embedding=None, metadata={'file_path': '/media/sagarnildass/d16f4193-0a7d-4eb8-8b71-235a0fc1224e/home/sagarnildass/python_notebooks/huggingface_agents_course/unit_2.2_llamaindex_framework/data/persona_1001.txt', 'file_name': 'persona_1001.txt', 'file_type': 'text/plain', 'file_size': 157, 'creation_date': '2025-03-12', 'last_modified_date': '2025-03-12'}, excluded_embed_metadata_keys=['file_name', 'file_type', 'file_size', 'creation_date', 'last_modified_date', 'last_accessed_date'], excluded_llm_metadata_keys=['file_name', 'file_type', 'file_size', 'creation_date', 'last_modified_date', 'last_accessed_date'], relationships={<NodeRelationship.SOURCE: '1'>: RelatedNodeInfo(node_id='8e92d3b6-956a-469a-9bb9-c7f1ff9e6ab2', node_type='4', metadata={'file_path': '/media/sagarnildass/d16f4193-0a7d-4eb8-8b71-235a0fc1224e/home/sagarnildass/python_notebooks/huggingface_agents_course/unit_2.2_llamaindex_framework/data/persona_1001.txt', 'file_name': 'persona_1001.txt', 'file_type': 'text/plain', 'file_size': 157, 'creation_date': '2025-03-12', 'last_modified_date': '2025-03-12'}, hash='95ea9bb7700f8b67bf3d4d1f7fb9fd4b8bb3641e76cef3ec47efb0c36f6a95fb')}, metadata_template='{key}: {value}', metadata_separator='\\n', text='A web developer or a web development student, likely in the early stages of their learning or career, with a strong focus on HTML, CSS, and website building.', mimetype='text/plain', start_char_idx=0, end_char_idx=157, metadata_seperator='\\n', text_template='{metadata_str}\\n\\n{content}'), score=0.5380956092082079), NodeWithScore(node=TextNode(id_='1d675bb2-bbc9-40e2-896b-f99230472304', embedding=None, metadata={'file_path': '/media/sagarnildass/d16f4193-0a7d-4eb8-8b71-235a0fc1224e/home/sagarnildass/python_notebooks/huggingface_agents_course/unit_2.2_llamaindex_framework/data/persona_1003.txt', 'file_name': 'persona_1003.txt', 'file_type': 'text/plain', 'file_size': 170, 'creation_date': '2025-03-12', 'last_modified_date': '2025-03-12'}, excluded_embed_metadata_keys=['file_name', 'file_type', 'file_size', 'creation_date', 'last_modified_date', 'last_accessed_date'], excluded_llm_metadata_keys=['file_name', 'file_type', 'file_size', 'creation_date', 'last_modified_date', 'last_accessed_date'], relationships={<NodeRelationship.SOURCE: '1'>: RelatedNodeInfo(node_id='5068d455-f708-4c5c-849b-fca58be44ec1', node_type='4', metadata={'file_path': '/media/sagarnildass/d16f4193-0a7d-4eb8-8b71-235a0fc1224e/home/sagarnildass/python_notebooks/huggingface_agents_course/unit_2.2_llamaindex_framework/data/persona_1003.txt', 'file_name': 'persona_1003.txt', 'file_type': 'text/plain', 'file_size': 170, 'creation_date': '2025-03-12', 'last_modified_date': '2025-03-12'}, hash='04cffc0652a9718f5fb9e38c0963cf2424689febd46fd8a85e1c85fddfed744d')}, metadata_template='{key}: {value}', metadata_separator='\\n', text='A special education teacher or instructional specialist focused on inclusive education and assistive technology, likely working with students with diverse learning needs.', mimetype='text/plain', start_char_idx=0, end_char_idx=170, metadata_seperator='\\n', text_template='{metadata_str}\\n\\n{content}'), score=0.5334217535012085)], metadata={'6128b4b2-0815-4101-b369-fed795ce18f0': {'file_path': '/media/sagarnildass/d16f4193-0a7d-4eb8-8b71-235a0fc1224e/home/sagarnildass/python_notebooks/huggingface_agents_course/unit_2.2_llamaindex_framework/data/persona_1001.txt', 'file_name': 'persona_1001.txt', 'file_type': 'text/plain', 'file_size': 157, 'creation_date': '2025-03-12', 'last_modified_date': '2025-03-12'}, '1d675bb2-bbc9-40e2-896b-f99230472304': {'file_path': '/media/sagarnildass/d16f4193-0a7d-4eb8-8b71-235a0fc1224e/home/sagarnildass/python_notebooks/huggingface_agents_course/unit_2.2_llamaindex_framework/data/persona_1003.txt', 'file_name': 'persona_1003.txt', 'file_type': 'text/plain', 'file_size': 170, 'creation_date': '2025-03-12', 'last_modified_date': '2025-03-12'}}), is_error=False), return_direct=False), ToolCallResult(tool_name='personas', tool_kwargs={'input': 'software engineer, data scientist, STEM educator'}, tool_id='b5102511-a62a-4743-9f18-34d7cf4588ec', tool_output=ToolOutput(content='The provided context does not include information about a software engineer, data scientist, or STEM educator. The details given pertain to a special education teacher or instructional specialist focused on inclusive education and assistive technology, and a web developer or web development student.', tool_name='personas', raw_input={'input': 'software engineer, data scientist, STEM educator'}, raw_output=Response(response='The provided context does not include information about a software engineer, data scientist, or STEM educator. The details given pertain to a special education teacher or instructional specialist focused on inclusive education and assistive technology, and a web developer or web development student.', source_nodes=[NodeWithScore(node=TextNode(id_='1d675bb2-bbc9-40e2-896b-f99230472304', embedding=None, metadata={'file_path': '/media/sagarnildass/d16f4193-0a7d-4eb8-8b71-235a0fc1224e/home/sagarnildass/python_notebooks/huggingface_agents_course/unit_2.2_llamaindex_framework/data/persona_1003.txt', 'file_name': 'persona_1003.txt', 'file_type': 'text/plain', 'file_size': 170, 'creation_date': '2025-03-12', 'last_modified_date': '2025-03-12'}, excluded_embed_metadata_keys=['file_name', 'file_type', 'file_size', 'creation_date', 'last_modified_date', 'last_accessed_date'], excluded_llm_metadata_keys=['file_name', 'file_type', 'file_size', 'creation_date', 'last_modified_date', 'last_accessed_date'], relationships={<NodeRelationship.SOURCE: '1'>: RelatedNodeInfo(node_id='5068d455-f708-4c5c-849b-fca58be44ec1', node_type='4', metadata={'file_path': '/media/sagarnildass/d16f4193-0a7d-4eb8-8b71-235a0fc1224e/home/sagarnildass/python_notebooks/huggingface_agents_course/unit_2.2_llamaindex_framework/data/persona_1003.txt', 'file_name': 'persona_1003.txt', 'file_type': 'text/plain', 'file_size': 170, 'creation_date': '2025-03-12', 'last_modified_date': '2025-03-12'}, hash='04cffc0652a9718f5fb9e38c0963cf2424689febd46fd8a85e1c85fddfed744d')}, metadata_template='{key}: {value}', metadata_separator='\\n', text='A special education teacher or instructional specialist focused on inclusive education and assistive technology, likely working with students with diverse learning needs.', mimetype='text/plain', start_char_idx=0, end_char_idx=170, metadata_seperator='\\n', text_template='{metadata_str}\\n\\n{content}'), score=0.5239717785299772), NodeWithScore(node=TextNode(id_='6128b4b2-0815-4101-b369-fed795ce18f0', embedding=None, metadata={'file_path': '/media/sagarnildass/d16f4193-0a7d-4eb8-8b71-235a0fc1224e/home/sagarnildass/python_notebooks/huggingface_agents_course/unit_2.2_llamaindex_framework/data/persona_1001.txt', 'file_name': 'persona_1001.txt', 'file_type': 'text/plain', 'file_size': 157, 'creation_date': '2025-03-12', 'last_modified_date': '2025-03-12'}, excluded_embed_metadata_keys=['file_name', 'file_type', 'file_size', 'creation_date', 'last_modified_date', 'last_accessed_date'], excluded_llm_metadata_keys=['file_name', 'file_type', 'file_size', 'creation_date', 'last_modified_date', 'last_accessed_date'], relationships={<NodeRelationship.SOURCE: '1'>: RelatedNodeInfo(node_id='8e92d3b6-956a-469a-9bb9-c7f1ff9e6ab2', node_type='4', metadata={'file_path': '/media/sagarnildass/d16f4193-0a7d-4eb8-8b71-235a0fc1224e/home/sagarnildass/python_notebooks/huggingface_agents_course/unit_2.2_llamaindex_framework/data/persona_1001.txt', 'file_name': 'persona_1001.txt', 'file_type': 'text/plain', 'file_size': 157, 'creation_date': '2025-03-12', 'last_modified_date': '2025-03-12'}, hash='95ea9bb7700f8b67bf3d4d1f7fb9fd4b8bb3641e76cef3ec47efb0c36f6a95fb')}, metadata_template='{key}: {value}', metadata_separator='\\n', text='A web developer or a web development student, likely in the early stages of their learning or career, with a strong focus on HTML, CSS, and website building.', mimetype='text/plain', start_char_idx=0, end_char_idx=157, metadata_seperator='\\n', text_template='{metadata_str}\\n\\n{content}'), score=0.49262798985868617)], metadata={'1d675bb2-bbc9-40e2-896b-f99230472304': {'file_path': '/media/sagarnildass/d16f4193-0a7d-4eb8-8b71-235a0fc1224e/home/sagarnildass/python_notebooks/huggingface_agents_course/unit_2.2_llamaindex_framework/data/persona_1003.txt', 'file_name': 'persona_1003.txt', 'file_type': 'text/plain', 'file_size': 170, 'creation_date': '2025-03-12', 'last_modified_date': '2025-03-12'}, '6128b4b2-0815-4101-b369-fed795ce18f0': {'file_path': '/media/sagarnildass/d16f4193-0a7d-4eb8-8b71-235a0fc1224e/home/sagarnildass/python_notebooks/huggingface_agents_course/unit_2.2_llamaindex_framework/data/persona_1001.txt', 'file_name': 'persona_1001.txt', 'file_type': 'text/plain', 'file_size': 157, 'creation_date': '2025-03-12', 'last_modified_date': '2025-03-12'}}), is_error=False), return_direct=False), ToolCallResult(tool_name='personas', tool_kwargs={'input': 'special education teacher, web developer'}, tool_id='7658065c-7a61-4243-add2-1533cfe899d1', tool_output=ToolOutput(content='The descriptions provided outline two distinct roles. One individual is a special education teacher or instructional specialist with a focus on inclusive education and assistive technology, catering to students with diverse learning needs. The other is a web developer or a web development student, concentrating on foundational web technologies such as HTML, CSS, and website construction.', tool_name='personas', raw_input={'input': 'special education teacher, web developer'}, raw_output=Response(response='The descriptions provided outline two distinct roles. One individual is a special education teacher or instructional specialist with a focus on inclusive education and assistive technology, catering to students with diverse learning needs. The other is a web developer or a web development student, concentrating on foundational web technologies such as HTML, CSS, and website construction.', source_nodes=[NodeWithScore(node=TextNode(id_='1d675bb2-bbc9-40e2-896b-f99230472304', embedding=None, metadata={'file_path': '/media/sagarnildass/d16f4193-0a7d-4eb8-8b71-235a0fc1224e/home/sagarnildass/python_notebooks/huggingface_agents_course/unit_2.2_llamaindex_framework/data/persona_1003.txt', 'file_name': 'persona_1003.txt', 'file_type': 'text/plain', 'file_size': 170, 'creation_date': '2025-03-12', 'last_modified_date': '2025-03-12'}, excluded_embed_metadata_keys=['file_name', 'file_type', 'file_size', 'creation_date', 'last_modified_date', 'last_accessed_date'], excluded_llm_metadata_keys=['file_name', 'file_type', 'file_size', 'creation_date', 'last_modified_date', 'last_accessed_date'], relationships={<NodeRelationship.SOURCE: '1'>: RelatedNodeInfo(node_id='5068d455-f708-4c5c-849b-fca58be44ec1', node_type='4', metadata={'file_path': '/media/sagarnildass/d16f4193-0a7d-4eb8-8b71-235a0fc1224e/home/sagarnildass/python_notebooks/huggingface_agents_course/unit_2.2_llamaindex_framework/data/persona_1003.txt', 'file_name': 'persona_1003.txt', 'file_type': 'text/plain', 'file_size': 170, 'creation_date': '2025-03-12', 'last_modified_date': '2025-03-12'}, hash='04cffc0652a9718f5fb9e38c0963cf2424689febd46fd8a85e1c85fddfed744d')}, metadata_template='{key}: {value}', metadata_separator='\\n', text='A special education teacher or instructional specialist focused on inclusive education and assistive technology, likely working with students with diverse learning needs.', mimetype='text/plain', start_char_idx=0, end_char_idx=170, metadata_seperator='\\n', text_template='{metadata_str}\\n\\n{content}'), score=0.6227608230701118), NodeWithScore(node=TextNode(id_='6128b4b2-0815-4101-b369-fed795ce18f0', embedding=None, metadata={'file_path': '/media/sagarnildass/d16f4193-0a7d-4eb8-8b71-235a0fc1224e/home/sagarnildass/python_notebooks/huggingface_agents_course/unit_2.2_llamaindex_framework/data/persona_1001.txt', 'file_name': 'persona_1001.txt', 'file_type': 'text/plain', 'file_size': 157, 'creation_date': '2025-03-12', 'last_modified_date': '2025-03-12'}, excluded_embed_metadata_keys=['file_name', 'file_type', 'file_size', 'creation_date', 'last_modified_date', 'last_accessed_date'], excluded_llm_metadata_keys=['file_name', 'file_type', 'file_size', 'creation_date', 'last_modified_date', 'last_accessed_date'], relationships={<NodeRelationship.SOURCE: '1'>: RelatedNodeInfo(node_id='8e92d3b6-956a-469a-9bb9-c7f1ff9e6ab2', node_type='4', metadata={'file_path': '/media/sagarnildass/d16f4193-0a7d-4eb8-8b71-235a0fc1224e/home/sagarnildass/python_notebooks/huggingface_agents_course/unit_2.2_llamaindex_framework/data/persona_1001.txt', 'file_name': 'persona_1001.txt', 'file_type': 'text/plain', 'file_size': 157, 'creation_date': '2025-03-12', 'last_modified_date': '2025-03-12'}, hash='95ea9bb7700f8b67bf3d4d1f7fb9fd4b8bb3641e76cef3ec47efb0c36f6a95fb')}, metadata_template='{key}: {value}', metadata_separator='\\n', text='A web developer or a web development student, likely in the early stages of their learning or career, with a strong focus on HTML, CSS, and website building.', mimetype='text/plain', start_char_idx=0, end_char_idx=157, metadata_seperator='\\n', text_template='{metadata_str}\\n\\n{content}'), score=0.5131133599350782)], metadata={'1d675bb2-bbc9-40e2-896b-f99230472304': {'file_path': '/media/sagarnildass/d16f4193-0a7d-4eb8-8b71-235a0fc1224e/home/sagarnildass/python_notebooks/huggingface_agents_course/unit_2.2_llamaindex_framework/data/persona_1003.txt', 'file_name': 'persona_1003.txt', 'file_type': 'text/plain', 'file_size': 170, 'creation_date': '2025-03-12', 'last_modified_date': '2025-03-12'}, '6128b4b2-0815-4101-b369-fed795ce18f0': {'file_path': '/media/sagarnildass/d16f4193-0a7d-4eb8-8b71-235a0fc1224e/home/sagarnildass/python_notebooks/huggingface_agents_course/unit_2.2_llamaindex_framework/data/persona_1001.txt', 'file_name': 'persona_1001.txt', 'file_type': 'text/plain', 'file_size': 157, 'creation_date': '2025-03-12', 'last_modified_date': '2025-03-12'}}), is_error=False), return_direct=False)], raw=ChatCompletionStreamOutput(choices=[ChatCompletionStreamOutputChoice(delta=ChatCompletionStreamOutputDelta(role='assistant', content='.', tool_calls=None), index=0, finish_reason=None, logprobs=None)], created=1741753889, id='', model='Qwen/Qwen2.5-Coder-32B-Instruct', system_fingerprint='3.0.1-sha-bb9095a', usage=None, object='chat.completion.chunk'), current_agent_name='Agent')"
      ]
     },
     "execution_count": 7,
     "metadata": {},
     "output_type": "execute_result"
    }
   ],
   "source": [
    "handler = query_engine_agent.run(\n",
    "    \"Search the database for 'algorithmic problem-solving' and return some persona descriptions.\"\n",
    ")\n",
    "async for ev in handler.stream_events():\n",
    "    if isinstance(ev, ToolCallResult):\n",
    "        print(\"\")\n",
    "        print(\"Called tool: \", ev.tool_name, ev.tool_kwargs, \"=>\", ev.tool_output)\n",
    "    elif isinstance(ev, AgentStream):  # showing the thought process\n",
    "        print(ev.delta, end=\"\", flush=True)\n",
    "\n",
    "resp = await handler\n",
    "resp"
   ]
  },
  {
   "cell_type": "markdown",
   "id": "27fac430",
   "metadata": {},
   "source": [
    "## Creating multi-agent systems\n",
    "\n",
    "We can also create multi-agent systems by passing multiple agents to the `AgentWorkflow` class."
   ]
  },
  {
   "cell_type": "code",
   "execution_count": 8,
   "id": "db07b9c8",
   "metadata": {},
   "outputs": [],
   "source": [
    "from llama_index.core.agent.workflow import (\n",
    "    AgentWorkflow,\n",
    "    ReActAgent,\n",
    ")\n",
    "\n",
    "\n",
    "# Define some tools\n",
    "def add(a: int, b: int) -> int:\n",
    "    \"\"\"Add two numbers.\"\"\"\n",
    "    return a + b\n",
    "\n",
    "\n",
    "def subtract(a: int, b: int) -> int:\n",
    "    \"\"\"Subtract two numbers.\"\"\"\n",
    "    return a - b\n",
    "\n",
    "\n",
    "# Create agent configs\n",
    "# NOTE: we can use FunctionAgent or ReActAgent here.\n",
    "# FunctionAgent works for LLMs with a function calling API.\n",
    "# ReActAgent works for any LLM.\n",
    "calculator_agent = ReActAgent(\n",
    "    name=\"calculator\",\n",
    "    description=\"Performs basic arithmetic operations\",\n",
    "    system_prompt=\"You are a calculator assistant. Use your tools for any math operation.\",\n",
    "    tools=[add, subtract],\n",
    "    llm=llm,\n",
    ")\n",
    "\n",
    "query_agent = ReActAgent(\n",
    "    name=\"info_lookup\",\n",
    "    description=\"Looks up information about XYZ\",\n",
    "    system_prompt=\"Use your tool to query a RAG system to answer information about XYZ\",\n",
    "    tools=[query_engine_tool],\n",
    "    llm=llm,\n",
    ")\n",
    "\n",
    "# Create and run the workflow\n",
    "agent = AgentWorkflow(agents=[calculator_agent, query_agent], root_agent=\"calculator\")\n",
    "\n",
    "# Run the system\n",
    "handler = agent.run(user_msg=\"Can you add 5 and 3?\")"
   ]
  },
  {
   "cell_type": "code",
   "execution_count": 9,
   "id": "98f6b871",
   "metadata": {},
   "outputs": [
    {
     "name": "stdout",
     "output_type": "stream",
     "text": [
      "Thought: The current language of the user is: English. I need to use a tool to help me answer the question.\n",
      "Action: add\n",
      "Action Input: {\"a\": 5, \"b\": 3}\n",
      "Called tool:  add {'a': 5, 'b': 3} => 8\n",
      "Thought: I can answer without using any more tools. I'll use the user's language to answer\n",
      "Answer: 8"
     ]
    },
    {
     "data": {
      "text/plain": [
       "AgentOutput(response=ChatMessage(role=<MessageRole.ASSISTANT: 'assistant'>, additional_kwargs={}, blocks=[TextBlock(block_type='text', text='8')]), tool_calls=[ToolCallResult(tool_name='add', tool_kwargs={'a': 5, 'b': 3}, tool_id='d9681240-7e5d-4597-955c-b7ca05fe16ee', tool_output=ToolOutput(content='8', tool_name='add', raw_input={'args': (), 'kwargs': {'a': 5, 'b': 3}}, raw_output=8, is_error=False), return_direct=False)], raw=ChatCompletionStreamOutput(choices=[ChatCompletionStreamOutputChoice(delta=ChatCompletionStreamOutputDelta(role='assistant', content='8', tool_calls=None), index=0, finish_reason=None, logprobs=None)], created=1741753964, id='', model='Qwen/Qwen2.5-Coder-32B-Instruct', system_fingerprint='3.0.1-sha-bb9095a', usage=None, object='chat.completion.chunk'), current_agent_name='calculator')"
      ]
     },
     "execution_count": 9,
     "metadata": {},
     "output_type": "execute_result"
    }
   ],
   "source": [
    "async for ev in handler.stream_events():\n",
    "    if isinstance(ev, ToolCallResult):\n",
    "        print(\"\")\n",
    "        print(\"Called tool: \", ev.tool_name, ev.tool_kwargs, \"=>\", ev.tool_output)\n",
    "    elif isinstance(ev, AgentStream):  # showing the thought process\n",
    "        print(ev.delta, end=\"\", flush=True)\n",
    "\n",
    "resp = await handler\n",
    "resp"
   ]
  },
  {
   "cell_type": "code",
   "execution_count": null,
   "id": "b6e2772f",
   "metadata": {},
   "outputs": [],
   "source": []
  }
 ],
 "metadata": {
  "kernelspec": {
   "display_name": "Python 3 (ipykernel)",
   "language": "python",
   "name": "python3"
  },
  "language_info": {
   "codemirror_mode": {
    "name": "ipython",
    "version": 3
   },
   "file_extension": ".py",
   "mimetype": "text/x-python",
   "name": "python",
   "nbconvert_exporter": "python",
   "pygments_lexer": "ipython3",
   "version": "3.11.11"
  }
 },
 "nbformat": 4,
 "nbformat_minor": 5
}
